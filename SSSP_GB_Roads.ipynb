{
 "cells": [
  {
   "cell_type": "code",
   "execution_count": 1,
   "metadata": {},
   "outputs": [],
   "source": [
    "# Import needed libraries\n",
    "import cugraph\n",
    "import cudf\n",
    "from collections import OrderedDict"
   ]
  },
  {
   "cell_type": "markdown",
   "metadata": {},
   "source": [
    "### Test Data\n",
    "We will be using the Ordnance Survey Open Roads dataset converted into a graph.  \n",
    "A sample is shown below:\n",
    "\n",
    "![Road_Graph](./img/road_graph.png)\n",
    "\n",
    "This is a weighted graph, using the edge distance in metres.  \n",
    "__Note__: The Open Roads dataset starts with vertex ID 1 which the cuGraph analytics assume a zero-based starting ID.  \n",
    "*Contains OS data © Crown copyright and database right (2019)*  \n",
    "Licensed under [Open Government Licence (OGL) V3](http://www.nationalarchives.gov.uk/doc/open-government-licence/version/3/)"
   ]
  },
  {
   "cell_type": "markdown",
   "metadata": {},
   "source": [
    "### Read the source data and adjust the vertex IDs"
   ]
  },
  {
   "cell_type": "code",
   "execution_count": 2,
   "metadata": {},
   "outputs": [],
   "source": [
    "# Test file  - Read OS Open Roads as a graph. (Store dataset in ./data folder)\n",
    "datafile='./data/gb_road_graph_20190523.csv'"
   ]
  },
  {
   "cell_type": "code",
   "execution_count": 3,
   "metadata": {},
   "outputs": [],
   "source": [
    "# Read the data file with lenght of edge in metres as weight\n",
    "cols = [\"src\", \"dst\",\"length\"]\n",
    "\n",
    "dtypes = OrderedDict([\n",
    "        (\"src\", \"int32\"), \n",
    "        (\"dst\", \"int32\"),\n",
    "        (\"length\", \"float64\"),\n",
    "        ])\n",
    "\n",
    "gdf = cudf.read_csv(datafile, names=cols, dtype=list(dtypes.values()) ,skiprows=1)"
   ]
  },
  {
   "cell_type": "code",
   "execution_count": 4,
   "metadata": {},
   "outputs": [],
   "source": [
    "# Need to shift the vertex IDs to start with zero rather than one (next version of cuGraph will fix this issue)\n",
    "gdf[\"src_0\"] = gdf[\"src\"] - 1\n",
    "gdf[\"dst_0\"] = gdf[\"dst\"] - 1"
   ]
  },
  {
   "cell_type": "code",
   "execution_count": 5,
   "metadata": {},
   "outputs": [
    {
     "name": "stdout",
     "output_type": "stream",
     "text": [
      "    src  dst  length  src_0  dst_0\n",
      "0   16   20   162.0     15     19\n",
      "1   20   16   162.0     19     15\n",
      "2   56   55   855.0     55     54\n",
      "3   55   56   855.0     54     55\n",
      "4   72   22   382.0     71     21\n",
      "5   22   72   382.0     21     71\n",
      "6   72   71   270.0     71     70\n",
      "7   71   72   270.0     70     71\n",
      "8   17   18    48.0     16     17\n",
      "9   18   17    48.0     17     16\n",
      "[7347796 more rows]\n"
     ]
    }
   ],
   "source": [
    "# Displat the results\n",
    "print(gdf)"
   ]
  },
  {
   "cell_type": "markdown",
   "metadata": {},
   "source": [
    "### Create the Road Graph and call SSSP"
   ]
  },
  {
   "cell_type": "code",
   "execution_count": 6,
   "metadata": {},
   "outputs": [
    {
     "name": "stdout",
     "output_type": "stream",
     "text": [
      "CPU times: user 167 µs, sys: 152 µs, total: 319 µs\n",
      "Wall time: 326 µs\n"
     ]
    }
   ],
   "source": [
    "%%time\n",
    "# create a Graph \n",
    "G = cugraph.Graph()\n",
    "G.add_edge_list(gdf[\"src_0\"], gdf[\"dst_0\"],gdf['length'])"
   ]
  },
  {
   "cell_type": "code",
   "execution_count": 7,
   "metadata": {},
   "outputs": [
    {
     "name": "stdout",
     "output_type": "stream",
     "text": [
      "CPU times: user 1.87 s, sys: 756 ms, total: 2.63 s\n",
      "Wall time: 2.62 s\n"
     ]
    }
   ],
   "source": [
    "%%time\n",
    "# Call cugraph.sssp to get the distances from vertex 1103168 (my house):\n",
    "df = cugraph.sssp(G,1103168)"
   ]
  },
  {
   "cell_type": "code",
   "execution_count": 8,
   "metadata": {},
   "outputs": [
    {
     "name": "stdout",
     "output_type": "stream",
     "text": [
      "    vertex                 distance\n",
      "0       0  1.7976931348623157e+308\n",
      "1       1  1.7976931348623157e+308\n",
      "2       2  1.7976931348623157e+308\n",
      "3       3  1.7976931348623157e+308\n",
      "4       4  1.7976931348623157e+308\n",
      "5       5  1.7976931348623157e+308\n",
      "6       6  1.7976931348623157e+308\n",
      "7       7  1.7976931348623157e+308\n",
      "8       8  1.7976931348623157e+308\n",
      "9       9  1.7976931348623157e+308\n",
      "[3078121 more rows]\n"
     ]
    }
   ],
   "source": [
    "print(df)"
   ]
  },
  {
   "cell_type": "code",
   "execution_count": 9,
   "metadata": {},
   "outputs": [
    {
     "name": "stdout",
     "output_type": "stream",
     "text": [
      "    vertex  distance\n",
      "8941    8941  730425.0\n",
      "8942    8942  730387.0\n",
      "8943    8943  730651.0\n",
      "8944    8944  730630.0\n",
      "8945    8945  729755.0\n",
      "8946    8946  729875.0\n",
      "8947    8947  729538.0\n",
      "8948    8948  730048.0\n",
      "8949    8949  729819.0\n",
      "8950    8950  729924.0\n",
      "[3048661 more rows]\n"
     ]
    }
   ],
   "source": [
    "# Exclude non-connected nodes (islands) set to fp64 max\n",
    "print(df.query(\"distance<1.7976931348623157e+308\"))"
   ]
  },
  {
   "cell_type": "markdown",
   "metadata": {},
   "source": [
    "### Calculate nearest and farthest vertices"
   ]
  },
  {
   "cell_type": "code",
   "execution_count": 10,
   "metadata": {},
   "outputs": [
    {
     "name": "stdout",
     "output_type": "stream",
     "text": [
      "    vertex  distance\n",
      "15930   15930  792854.0\n",
      "15991   15991  791964.0\n",
      "16253   16253  791838.0\n",
      "15968   15968  791542.0\n",
      "15966   15966  791466.0\n",
      "15971   15971  791391.0\n",
      "15970   15970  791296.0\n",
      "15963   15963  791290.0\n",
      "15969   15969  791214.0\n",
      "15964   15964  791201.0\n"
     ]
    }
   ],
   "source": [
    "# Get 10 nearest vertices, excluding non-connected\n",
    "print(df.query(\"distance<1.7976931348623157e+308\").nlargest(10,['distance']))"
   ]
  },
  {
   "cell_type": "code",
   "execution_count": 11,
   "metadata": {},
   "outputs": [
    {
     "name": "stdout",
     "output_type": "stream",
     "text": [
      "     vertex  distance\n",
      "1103168  1103168       0.0\n",
      "1103174  1103174      53.0\n",
      "1103179  1103179     144.0\n",
      "1103177  1103177     159.0\n",
      "1103229  1103229     173.0\n",
      "1103181  1103181     196.0\n",
      "1103184  1103184     216.0\n",
      "1103185  1103185     231.0\n",
      "1103186  1103186     236.0\n",
      "1103187  1103187     330.0\n"
     ]
    }
   ],
   "source": [
    "# Get 10 farthest vertices, excluding non-connected\n",
    "print(df.query(\"distance<1.7976931348623157e+308\").nsmallest(10,['distance']))"
   ]
  },
  {
   "cell_type": "markdown",
   "metadata": {},
   "source": [
    "___\n",
    "Copyright (c) 2019, NVIDIA CORPORATION.\n",
    "\n",
    "Adapted by John Murray\n",
    "\n",
    "Licensed under the Apache License, Version 2.0 (the \"License\");  you may not use this file except in compliance with the License. You may obtain a copy of the License at http://www.apache.org/licenses/LICENSE-2.0\n",
    "\n",
    "Unless required by applicable law or agreed to in writing, software distributed under the License is distributed on an \"AS IS\" BASIS, WITHOUT WARRANTIES OR CONDITIONS OF ANY KIND, either express or implied. See the License for the specific language governing permissions and limitations under the License.\n",
    "___"
   ]
  }
 ],
 "metadata": {
  "kernelspec": {
   "display_name": "Python 3",
   "language": "python",
   "name": "python3"
  },
  "language_info": {
   "codemirror_mode": {
    "name": "ipython",
    "version": 3
   },
   "file_extension": ".py",
   "mimetype": "text/x-python",
   "name": "python",
   "nbconvert_exporter": "python",
   "pygments_lexer": "ipython3",
   "version": "3.7.3"
  }
 },
 "nbformat": 4,
 "nbformat_minor": 2
}
