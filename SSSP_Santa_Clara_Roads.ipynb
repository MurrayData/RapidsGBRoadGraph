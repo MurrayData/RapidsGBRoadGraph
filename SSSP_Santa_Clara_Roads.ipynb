{
 "cells": [
  {
   "cell_type": "markdown",
   "metadata": {},
   "source": [
    "# Single Source Shortest Path (SSSP) - Santa Clara\n",
    "\n",
    "In this notebook, we will use cuGraph to compute the shortest path from a starting vertex to everyother vertex in our training dataset.\n",
    "\n",
    "Notebook Credits\n",
    "* Original Authors: Bradley Rees and James Wyles\n",
    "* Last Edit: 05/01/2019\n",
    "* Modified by John Murray\n",
    "* Last Edit: 05/29/2019\n",
    "\n",
    "RAPIDS Versions: 0.7.0 - Docker Container    \n",
    "\n",
    "Test Hardware\n",
    "\n",
    "* GV100 32G, CUDA 10.1, Ubuntu 18.04\n",
    "\n",
    "\n",
    "\n",
    "## Introduction\n",
    "\n",
    "Single source shortest path computes the shortest paths from the given starting vertex to all other reachable vertices. \n",
    "\n",
    "To compute SSSP for a graph in cuGraph we use:\n",
    "**cugraph.sssp(G, source)**\n",
    "\n",
    "Input\n",
    "* __G__: cugraph.Graph object\n",
    "* __source__: int, Index of the source vertex\n",
    "\n",
    "Returns \n",
    "* __df__:  a cudf.DataFrame object with two columns:\n",
    "    * df['vertex']: The vertex identifier for the vertex\n",
    "    * df['distance']: The computed distance from the source vertex to this vertex\n",
    "\n",
    "\n",
    "## cuGraph 0.7 Notice \n",
    "cuGraph version 0.7 has some limitations:\n",
    "* Only Int32 Vertex ID are supported\n",
    "* Only float (FP32) edge data is supported\n",
    "* Vertex numbering is assumed to start at zero\n",
    "\n",
    "These limitations are being addressed and will be fixed future versions.  \n",
    "These example notebooks will illustrate how to manipulate the data so that it comforms to the current limitations    \n",
    "    "
   ]
  },
  {
   "cell_type": "markdown",
   "metadata": {},
   "source": [
    "### Test Data\n",
    "We will be using the US Census Bureau, Department of Commerce Tiger Line Roads dataset, for Santa Clara County, converted into a graph.  \n",
    "A sample is shown below:\n",
    "\n",
    "![Road_Graph](./img/santa_clara_road_graph.png)\n",
    "\n",
    "This is a weighted graph, using the edge distance in yards.\n",
    "The raw data source does not contain nodes. These have been derived through Spatial Inference using Fusion Data Science Spatia software.  \n",
    "Because the raw data does not contain information about one way roads and restricted access intersections, assumptions have been made and therefore the data should not be used for navigation purposes.\n",
    "__Note__: The derived dataset starts with vertex ID 1 which the cuGraph analytics assume a zero-based starting ID.  \n",
    "Base image: USGS Imagery Topo Base Map: Map services and data available from U.S. Geological Survey, National Geospatial Program  \n",
    "Licensed under [U.S. Government Work License](https://www.usa.gov/government-works)"
   ]
  },
  {
   "cell_type": "markdown",
   "metadata": {},
   "source": [
    "### Read the source data and adjust the vertex IDs"
   ]
  },
  {
   "cell_type": "code",
   "execution_count": 1,
   "metadata": {},
   "outputs": [],
   "source": [
    "# Import needed libraries\n",
    "import cugraph\n",
    "import cudf\n",
    "from collections import OrderedDict"
   ]
  },
  {
   "cell_type": "code",
   "execution_count": 2,
   "metadata": {},
   "outputs": [],
   "source": [
    "# Test file  - Read the Santa Clara node table as a graph. (Store dataset in ./data folder)\n",
    "datafile='./data/santa_clara_road_graph_20190526.csv'"
   ]
  },
  {
   "cell_type": "code",
   "execution_count": 3,
   "metadata": {},
   "outputs": [],
   "source": [
    "# Read the data file with lenght of edge in metres as weight\n",
    "cols = [\"src\", \"dst\",\"length\"]\n",
    "\n",
    "dtypes = OrderedDict([\n",
    "        (\"src\", \"int32\"), \n",
    "        (\"dst\", \"int32\"),\n",
    "        (\"length\", \"float32\"),\n",
    "        ])\n",
    "\n",
    "gdf = cudf.read_csv(datafile, names=cols, dtype=list(dtypes.values()) ,skiprows=1)"
   ]
  },
  {
   "cell_type": "code",
   "execution_count": 4,
   "metadata": {},
   "outputs": [],
   "source": [
    "# Need to shift the vertex IDs to start with zero rather than one (next version of cuGraph will fix this issue)\n",
    "gdf[\"src_0\"] = gdf[\"src\"] - 1\n",
    "gdf[\"dst_0\"] = gdf[\"dst\"] - 1"
   ]
  },
  {
   "cell_type": "code",
   "execution_count": 5,
   "metadata": {},
   "outputs": [
    {
     "name": "stdout",
     "output_type": "stream",
     "text": [
      "      src    dst     length  src_0  dst_0\n",
      "0    568    567  709.93207    567    566\n",
      "1    567    568  709.93207    566    567\n",
      "2  39732  65418    33.2337  39731  65417\n",
      "3  65418  39732    33.2337  65417  39731\n",
      "4  64991  64992  138.18001  64990  64991\n",
      "5  64992  64991  138.18001  64991  64990\n",
      "6  69015  69016    371.529  69014  69015\n",
      "7  69016  69015    371.529  69015  69014\n",
      "8  61591  61592  600.34796  61590  61591\n",
      "9  61592  61591  600.34796  61591  61590\n",
      "[188248 more rows]\n"
     ]
    }
   ],
   "source": [
    "# Display the results\n",
    "print(gdf)"
   ]
  },
  {
   "cell_type": "markdown",
   "metadata": {},
   "source": [
    "### Create the Road Graph and call SSSP"
   ]
  },
  {
   "cell_type": "code",
   "execution_count": 6,
   "metadata": {},
   "outputs": [
    {
     "name": "stdout",
     "output_type": "stream",
     "text": [
      "CPU times: user 170 µs, sys: 156 µs, total: 326 µs\n",
      "Wall time: 333 µs\n"
     ]
    }
   ],
   "source": [
    "%%time\n",
    "# create a Graph \n",
    "G = cugraph.Graph()\n",
    "G.add_edge_list(gdf[\"src_0\"], gdf[\"dst_0\"],gdf['length'])"
   ]
  },
  {
   "cell_type": "code",
   "execution_count": 7,
   "metadata": {},
   "outputs": [
    {
     "name": "stdout",
     "output_type": "stream",
     "text": [
      "CPU times: user 539 ms, sys: 124 ms, total: 663 ms\n",
      "Wall time: 662 ms\n"
     ]
    }
   ],
   "source": [
    "%%time\n",
    "# Call cugraph.sssp to get the distances from vertex 51096 (NVIDIA Endeavor HQ, Santa Clara):\n",
    "df = cugraph.sssp(G,51096)"
   ]
  },
  {
   "cell_type": "code",
   "execution_count": 8,
   "metadata": {},
   "outputs": [
    {
     "name": "stdout",
     "output_type": "stream",
     "text": [
      "    vertex       distance\n",
      "0       0       73044.68\n",
      "1       1      74360.516\n",
      "2       2      74383.234\n",
      "3       3  3.4028235e+38\n",
      "4       4        76425.3\n",
      "5       5      77057.836\n",
      "6       6  3.4028235e+38\n",
      "7       7  3.4028235e+38\n",
      "8       8  3.4028235e+38\n",
      "9       9  3.4028235e+38\n",
      "[74354 more rows]\n"
     ]
    }
   ],
   "source": [
    "print(df)"
   ]
  },
  {
   "cell_type": "code",
   "execution_count": 9,
   "metadata": {},
   "outputs": [
    {
     "name": "stdout",
     "output_type": "stream",
     "text": [
      "    vertex   distance\n",
      "0       0   73044.68\n",
      "1       1  74360.516\n",
      "2       2  74383.234\n",
      "4       4    76425.3\n",
      "5       5  77057.836\n",
      "17      17   70101.27\n",
      "18      18   72735.48\n",
      "19      19    71538.6\n",
      "20      20   75988.56\n",
      "22      22   72687.13\n",
      "[73800 more rows]\n"
     ]
    }
   ],
   "source": [
    "# Exclude non-connected nodes set to fp32 max\n",
    "print(df.query(\"distance<3.4028234e+38\"))"
   ]
  },
  {
   "cell_type": "markdown",
   "metadata": {},
   "source": [
    "### Calculate nearest and farthest vertices"
   ]
  },
  {
   "cell_type": "code",
   "execution_count": 10,
   "metadata": {},
   "outputs": [
    {
     "name": "stdout",
     "output_type": "stream",
     "text": [
      "    vertex   distance\n",
      "51096   51096        0.0\n",
      "51095   51095    14.5925\n",
      "50996   50996     37.778\n",
      "51111   51111  140.13301\n",
      "8869    8869  155.71552\n",
      "65316   65316    162.967\n",
      "51098   51098  166.22672\n",
      "8868    8868   177.2935\n",
      "51097   51097  182.15302\n",
      "57681   57681   189.4866\n"
     ]
    }
   ],
   "source": [
    "# Get 10 nearest vertices, excluding non-connected\n",
    "print(df.query(\"distance<3.4028234e+38\").nsmallest(10,['distance']))"
   ]
  },
  {
   "cell_type": "code",
   "execution_count": 11,
   "metadata": {},
   "outputs": [
    {
     "name": "stdout",
     "output_type": "stream",
     "text": [
      "    vertex    distance\n",
      "289     289  104718.984\n",
      "295     295   103530.08\n",
      "544     544   102600.29\n",
      "545     545   102391.88\n",
      "72286   72286   101753.05\n",
      "474     474   100851.62\n",
      "72288   72288   100300.77\n",
      "546     546    100205.1\n",
      "543     543    99003.07\n",
      "542     542     97302.0\n"
     ]
    }
   ],
   "source": [
    "# Get 10 farthest vertices, excluding non-connected\n",
    "print(df.query(\"distance<3.4028234e+38\").nlargest(10,['distance']))"
   ]
  },
  {
   "cell_type": "code",
   "execution_count": 12,
   "metadata": {},
   "outputs": [],
   "source": [
    "# Need to shift the vertex IDs back to start with one rather than zero (next version of cuGraph will fix this issue)\n",
    "df[\"vertex\"] = df[\"vertex\"] + 1"
   ]
  },
  {
   "cell_type": "code",
   "execution_count": 13,
   "metadata": {},
   "outputs": [],
   "source": [
    "# Output vertex distance vector to csv for display in GIS software\n",
    "df.query(\"distance<3.4028234e+38\").to_pandas().to_csv(\"./data/santa_clara_node_distances.csv\", index=False, header=True, sep=',')"
   ]
  },
  {
   "cell_type": "markdown",
   "metadata": {},
   "source": [
    "___\n",
    "Copyright (c) 2019, NVIDIA CORPORATION.\n",
    "\n",
    "Adapted by John Murray\n",
    "\n",
    "Licensed under the Apache License, Version 2.0 (the \"License\");  you may not use this file except in compliance with the License. You may obtain a copy of the License at http://www.apache.org/licenses/LICENSE-2.0\n",
    "\n",
    "Unless required by applicable law or agreed to in writing, software distributed under the License is distributed on an \"AS IS\" BASIS, WITHOUT WARRANTIES OR CONDITIONS OF ANY KIND, either express or implied. See the License for the specific language governing permissions and limitations under the License.\n",
    "___"
   ]
  }
 ],
 "metadata": {
  "kernelspec": {
   "display_name": "Python 3",
   "language": "python",
   "name": "python3"
  },
  "language_info": {
   "codemirror_mode": {
    "name": "ipython",
    "version": 3
   },
   "file_extension": ".py",
   "mimetype": "text/x-python",
   "name": "python",
   "nbconvert_exporter": "python",
   "pygments_lexer": "ipython3",
   "version": "3.7.3"
  }
 },
 "nbformat": 4,
 "nbformat_minor": 2
}
